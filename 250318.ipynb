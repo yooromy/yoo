{
  "nbformat": 4,
  "nbformat_minor": 0,
  "metadata": {
    "colab": {
      "provenance": [],
      "authorship_tag": "ABX9TyMY7M1Y1uCRgmx/bg79ifet",
      "include_colab_link": true
    },
    "kernelspec": {
      "name": "python3",
      "display_name": "Python 3"
    },
    "language_info": {
      "name": "python"
    }
  },
  "cells": [
    {
      "cell_type": "markdown",
      "metadata": {
        "id": "view-in-github",
        "colab_type": "text"
      },
      "source": [
        "<a href=\"https://colab.research.google.com/github/yooromy/yoo/blob/master/250318.ipynb\" target=\"_parent\"><img src=\"https://colab.research.google.com/assets/colab-badge.svg\" alt=\"Open In Colab\"/></a>"
      ]
    },
    {
      "cell_type": "code",
      "execution_count": 1,
      "metadata": {
        "id": "cmnHMfhBpBBl"
      },
      "outputs": [],
      "source": [
        "import numpy as np\n",
        "def step_function(x):\n",
        "    return 1 if x>=0 else 0\n",
        "\n",
        "class Perceptron:\n",
        "    def __init__(self, input_size, lr=0.1, epocha=10):\n",
        "        self.weights = np.zeros(input_size)\n",
        "        self.bias = 0\n",
        "        self.lr = lr\n",
        "        self.epocha = epocha\n",
        "\n",
        "    def predict (self, x):\n",
        "        linear_output = np.dot(x, self.weights) + self.bias\n",
        "        return step_function(linear_output)\n",
        "\n",
        "    def train(self, X, y):\n",
        "        for epoch in range(self.epocha):\n",
        "            for i in range (len(X)):\n",
        "              y_pred = self.predict(X[i])\n",
        "              error = y[i] - y_pred\n",
        "              self.weights += self.lr * error * X[i]\n",
        "              self.bias += self.lr * error\n",
        "            print(f\"Epoch {epoch+1} : Weights={self.weights}, Bias: {self.bias}, Error={error}\")"
      ]
    }
  ]
}