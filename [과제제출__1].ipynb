{
  "nbformat": 4,
  "nbformat_minor": 0,
  "metadata": {
    "colab": {
      "provenance": [],
      "authorship_tag": "ABX9TyNr1A1BIfqSAQAXNUCYFUCm",
      "include_colab_link": true
    },
    "kernelspec": {
      "name": "python3",
      "display_name": "Python 3"
    },
    "language_info": {
      "name": "python"
    }
  },
  "cells": [
    {
      "cell_type": "markdown",
      "metadata": {
        "id": "view-in-github",
        "colab_type": "text"
      },
      "source": [
        "<a href=\"https://colab.research.google.com/github/yooromy/yoo/blob/master/%5B%EA%B3%BC%EC%A0%9C%EC%A0%9C%EC%B6%9C__1%5D.ipynb\" target=\"_parent\"><img src=\"https://colab.research.google.com/assets/colab-badge.svg\" alt=\"Open In Colab\"/></a>"
      ]
    },
    {
      "cell_type": "code",
      "execution_count": 1,
      "metadata": {
        "colab": {
          "base_uri": "https://localhost:8080/"
        },
        "id": "kUoedibYpnAC",
        "outputId": "9ffd1c1a-c7f4-4496-cd5c-172ca2086368"
      },
      "outputs": [
        {
          "output_type": "stream",
          "name": "stdout",
          "text": [
            "최종 가격: 1320.0\n",
            "사과 가격 미분: 2.2\n",
            "사과 개수 미분: 110.00000000000001\n",
            "귤 가격 미분: 4.4\n",
            "귤 개수 미분: 275.0\n",
            "세금 미분: 1200\n"
          ]
        }
      ],
      "source": [
        "class MulLayer:\n",
        "    def __init__(self):\n",
        "        self.x = None\n",
        "        self.y = None\n",
        "\n",
        "    def forward(self, x, y):\n",
        "        self.x = x\n",
        "        self.y = y\n",
        "        return x * y\n",
        "\n",
        "    def backward(self, dout):\n",
        "        dx = dout * self.y  # x에 대한 미분\n",
        "        dy = dout * self.x  # y에 대한 미분\n",
        "        return dx, dy\n",
        "\n",
        "\n",
        "class AddLayer:\n",
        "    def __init__(self):\n",
        "        pass\n",
        "\n",
        "    def forward(self, x, y):\n",
        "        return x + y\n",
        "\n",
        "    def backward(self, dout):\n",
        "        dx = dout * 1  # 덧셈이므로 미분 값은 그대로 전파\n",
        "        dy = dout * 1\n",
        "        return dx, dy\n",
        "\n",
        "\n",
        "# 변수 설정\n",
        "apple_price = 100  # 사과 가격\n",
        "apple_num = 2      # 사과 개수\n",
        "tangerine_price = 250  # 귤 가격\n",
        "tangerine_num = 4      # 귤 개수\n",
        "tax = 1.1  # 소비세\n",
        "\n",
        "# 계층(layer) 생성\n",
        "mul_apple_layer = MulLayer()\n",
        "mul_tangerine_layer = MulLayer()\n",
        "add_fruit_layer = AddLayer()\n",
        "mul_tax_layer = MulLayer()\n",
        "\n",
        "# 순전파 (Forward)\n",
        "apple_total = mul_apple_layer.forward(apple_price, apple_num)  # 사과 총 가격\n",
        "tangerine_total = mul_tangerine_layer.forward(tangerine_price, tangerine_num)  # 귤 총 가격\n",
        "fruit_total = add_fruit_layer.forward(apple_total, tangerine_total)  # 총 과일 가격\n",
        "final_price = mul_tax_layer.forward(fruit_total, tax)  # 최종 가격\n",
        "\n",
        "print(\"최종 가격:\", final_price)  # 예상 출력: 1100.0\n",
        "\n",
        "# 역전파 (Backward)\n",
        "dprice = 1\n",
        "dfruit_total, dtax = mul_tax_layer.backward(dprice)\n",
        "dapple_total, dtangerine_total = add_fruit_layer.backward(dfruit_total)\n",
        "dapple_price, dapple_num = mul_apple_layer.backward(dapple_total)\n",
        "dtangerine_price, dtangerine_num = mul_tangerine_layer.backward(dtangerine_total)\n",
        "\n",
        "print(\"사과 가격 미분:\", dapple_price)        # 예상 출력: 2.2\n",
        "print(\"사과 개수 미분:\", dapple_num)         # 예상 출력: 220\n",
        "print(\"귤 가격 미분:\", dtangerine_price)     # 예상 출력: 4.4\n",
        "print(\"귤 개수 미분:\", dtangerine_num)      # 예상 출력: 275\n",
        "print(\"세금 미분:\", dtax)                   # 예상 출력: 1000\n"
      ]
    }
  ]
}